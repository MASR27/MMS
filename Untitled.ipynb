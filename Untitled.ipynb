{
 "cells": [
  {
   "cell_type": "code",
   "execution_count": 2,
   "id": "8b7a7cc8-68f9-48b8-b2f4-138c21acb980",
   "metadata": {
    "tags": []
   },
   "outputs": [
    {
     "name": "stdout",
     "output_type": "stream",
     "text": [
      "On branch main\n",
      "Your branch is up to date with 'origin/main'.\n",
      "\n",
      "nothing to commit, working tree clean\n",
      "Everything up-to-date\n"
     ]
    }
   ],
   "source": [
    "# Import necessary libraries\n",
    "import pandas as pd\n",
    "import matplotlib.pyplot as plt\n",
    "import numpy as np\n",
    "from IPython.display import HTML\n",
    "\n",
    "# Define the sections of the measurement management system\n",
    "planning = ['Quality policy', 'Quality objectives', 'Management review']\n",
    "performance = ['Measurement process', 'Measurement equipment', 'Measurement traceability']\n",
    "analysis = ['Data analysis', 'Nonconformity management', 'Corrective and preventive action']\n",
    "\n",
    "# Define the index using HTML and CSS\n",
    "index = '''\n",
    "<style>\n",
    "  .index {\n",
    "    display: flex;\n",
    "    flex-wrap: wrap;\n",
    "    justify-content: space-between;\n",
    "    padding: 10px;\n",
    "    background-color: #f2f2f2;\n",
    "  }\n",
    "  \n",
    "  .index h3 {\n",
    "    margin-top: 0;\n",
    "    font-size: 24px;\n",
    "  }\n",
    "  \n",
    "  .index ul {\n",
    "    list-style: none;\n",
    "    margin: 0;\n",
    "    padding: 0;\n",
    "  }\n",
    "  \n",
    "  .index ul li {\n",
    "    margin: 0 0 10px 0;\n",
    "    font-size: 18px;\n",
    "    cursor: pointer;\n",
    "  }\n",
    "  \n",
    "  .index ul li:hover {\n",
    "    color: #ff0000;\n",
    "  }\n",
    "</style>\n",
    "\n",
    "<div class=\"index\">\n",
    "  <div>\n",
    "    <h3>Planning</h3>\n",
    "    <ul>\n",
    "      <li>Quality policy</li>\n",
    "      <li>Quality objectives</li>\n",
    "      <li>Management review</li>\n",
    "    </ul>\n",
    "  </div>\n",
    "  <div>\n",
    "    <h3>Performance</h3>\n",
    "    <ul>\n",
    "      <li>Measurement process</li>\n",
    "      <li>Measurement equipment</li>\n",
    "      <li>Measurement traceability</li>\n",
    "    </ul>\n",
    "  </div>\n",
    "  <div>\n",
    "    <h3>Analysis</h3>\n",
    "    <ul>\n",
    "      <li>Data analysis</li>\n",
    "      <li>Nonconformity management</li>\n",
    "      <li>Corrective and preventive action</li>\n",
    "    </ul>\n",
    "  </div>\n",
    "</div>\n",
    "'''\n",
    "\n",
    "# Use the HTML function to render the index\n",
    "from IPython.display import HTML\n",
    "\n",
    "# Define the HTML code for the menu\n",
    "menu_html = '''\n",
    "<style>\n",
    "  /* CSS styles for the menu */\n",
    "</style>\n",
    "\n",
    "<!-- HTML code for the menu -->\n",
    "'''\n",
    "\n",
    "# Use the HTML function to render the menu\n",
    "HTML(menu_html)\n",
    "\n",
    "# Commit and push changes to the repository\n",
    "!git add .\n",
    "!git commit -m \"Added index for measurement management system\"\n",
    "!git push origin main\n"
   ]
  },
  {
   "cell_type": "code",
   "execution_count": 1,
   "id": "a9a64f02-5365-44b4-967d-81cdeb9a0d58",
   "metadata": {
    "tags": []
   },
   "outputs": [
    {
     "name": "stdout",
     "output_type": "stream",
     "text": [
      "Requirement already satisfied: IPython in /home/codespace/.local/lib/python3.10/site-packages (8.11.0)\n",
      "Requirement already satisfied: jedi>=0.16 in /home/codespace/.local/lib/python3.10/site-packages (from IPython) (0.18.2)\n",
      "Requirement already satisfied: traitlets>=5 in /home/codespace/.local/lib/python3.10/site-packages (from IPython) (5.9.0)\n",
      "Requirement already satisfied: pexpect>4.3 in /home/codespace/.local/lib/python3.10/site-packages (from IPython) (4.8.0)\n",
      "Requirement already satisfied: matplotlib-inline in /home/codespace/.local/lib/python3.10/site-packages (from IPython) (0.1.6)\n",
      "Requirement already satisfied: prompt-toolkit!=3.0.37,<3.1.0,>=3.0.30 in /home/codespace/.local/lib/python3.10/site-packages (from IPython) (3.0.38)\n",
      "Requirement already satisfied: pickleshare in /home/codespace/.local/lib/python3.10/site-packages (from IPython) (0.7.5)\n",
      "Requirement already satisfied: backcall in /home/codespace/.local/lib/python3.10/site-packages (from IPython) (0.2.0)\n",
      "Requirement already satisfied: decorator in /home/codespace/.local/lib/python3.10/site-packages (from IPython) (5.1.1)\n",
      "Requirement already satisfied: stack-data in /home/codespace/.local/lib/python3.10/site-packages (from IPython) (0.6.2)\n",
      "Requirement already satisfied: pygments>=2.4.0 in /home/codespace/.local/lib/python3.10/site-packages (from IPython) (2.14.0)\n",
      "Requirement already satisfied: parso<0.9.0,>=0.8.0 in /home/codespace/.local/lib/python3.10/site-packages (from jedi>=0.16->IPython) (0.8.3)\n",
      "Requirement already satisfied: ptyprocess>=0.5 in /home/codespace/.local/lib/python3.10/site-packages (from pexpect>4.3->IPython) (0.7.0)\n",
      "Requirement already satisfied: wcwidth in /home/codespace/.local/lib/python3.10/site-packages (from prompt-toolkit!=3.0.37,<3.1.0,>=3.0.30->IPython) (0.2.6)\n",
      "Requirement already satisfied: pure-eval in /home/codespace/.local/lib/python3.10/site-packages (from stack-data->IPython) (0.2.2)\n",
      "Requirement already satisfied: executing>=1.2.0 in /home/codespace/.local/lib/python3.10/site-packages (from stack-data->IPython) (1.2.0)\n",
      "Requirement already satisfied: asttokens>=2.1.0 in /home/codespace/.local/lib/python3.10/site-packages (from stack-data->IPython) (2.2.1)\n",
      "Requirement already satisfied: six in /home/codespace/.local/lib/python3.10/site-packages (from asttokens>=2.1.0->stack-data->IPython) (1.16.0)\n"
     ]
    }
   ],
   "source": [
    "!pip install IPython"
   ]
  },
  {
   "cell_type": "code",
   "execution_count": null,
   "id": "25b341d0-4d36-48a4-943a-516738144966",
   "metadata": {},
   "outputs": [],
   "source": []
  }
 ],
 "metadata": {
  "kernelspec": {
   "display_name": "Python 3 (ipykernel)",
   "language": "python",
   "name": "python3"
  },
  "language_info": {
   "codemirror_mode": {
    "name": "ipython",
    "version": 3
   },
   "file_extension": ".py",
   "mimetype": "text/x-python",
   "name": "python",
   "nbconvert_exporter": "python",
   "pygments_lexer": "ipython3",
   "version": "3.10.4"
  }
 },
 "nbformat": 4,
 "nbformat_minor": 5
}
