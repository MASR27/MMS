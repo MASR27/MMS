{
 "cells": [
  {
   "cell_type": "code",
   "execution_count": 1,
   "id": "1848760a-fced-4b2f-bbd1-de5a372a6737",
   "metadata": {
    "tags": []
   },
   "outputs": [
    {
     "name": "stdout",
     "output_type": "stream",
     "text": [
      "On branch main\n",
      "Your branch is up to date with 'origin/main'.\n",
      "\n",
      "nothing to commit, working tree clean\n",
      "Everything up-to-date\n"
     ]
    }
   ],
   "source": [
    "# Import necessary libraries\n",
    "import pandas as pd\n",
    "import matplotlib.pyplot as plt\n",
    "import numpy as np\n",
    "from IPython.display import HTML\n",
    "\n",
    "# Define the sections of the measurement management system\n",
    "planning = ['Quality policy', 'Quality objectives', 'Management review']\n",
    "performance = ['Measurement process', 'Measurement equipment', 'Measurement traceability']\n",
    "analysis = ['Data analysis', 'Nonconformity management', 'Corrective and preventive action']\n",
    "\n",
    "# Define the HTML code for the menu\n",
    "menu_html = '''\n",
    "<style>\n",
    "  .menu {\n",
    "    display: flex;\n",
    "    justify-content: space-between;\n",
    "    align-items: center;\n",
    "    padding: 10px;\n",
    "    background-color: #f2f2f2;\n",
    "  }\n",
    "  \n",
    "  .menu ul {\n",
    "    list-style: none;\n",
    "    margin: 0;\n",
    "    padding: 0;\n",
    "    display: flex;\n",
    "  }\n",
    "  \n",
    "  .menu ul li {\n",
    "    margin: 0 10px;\n",
    "    font-size: 18px;\n",
    "    font-weight: bold;\n",
    "    cursor: pointer;\n",
    "  }\n",
    "  \n",
    "  .menu ul li:hover {\n",
    "    color: #ff0000;\n",
    "  }\n",
    "</style>\n",
    "\n",
    "<div class=\"menu\">\n",
    "  <h2>Measurement Management System</h2>\n",
    "  <ul>\n",
    "    <li>Planning</li>\n",
    "    <li>Performance</li>\n",
    "    <li>Analysis</li>\n",
    "  </ul>\n",
    "</div>\n",
    "'''\n",
    "\n",
    "# Use the HTML function to render the menu\n",
    "HTML(menu_html)\n",
    "\n",
    "# Commit and push changes to the repository\n",
    "!git add .\n",
    "!git commit -m \"Added web menu for measurement management system\"\n",
    "!git push origin main\n"
   ]
  },
  {
   "cell_type": "code",
   "execution_count": null,
   "id": "b851e7ac-8c8e-447b-8a98-28d36286bba9",
   "metadata": {},
   "outputs": [],
   "source": []
  }
 ],
 "metadata": {
  "kernelspec": {
   "display_name": "Python 3 (ipykernel)",
   "language": "python",
   "name": "python3"
  },
  "language_info": {
   "codemirror_mode": {
    "name": "ipython",
    "version": 3
   },
   "file_extension": ".py",
   "mimetype": "text/x-python",
   "name": "python",
   "nbconvert_exporter": "python",
   "pygments_lexer": "ipython3",
   "version": "3.10.4"
  }
 },
 "nbformat": 4,
 "nbformat_minor": 5
}
